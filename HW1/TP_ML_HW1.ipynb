{
 "cells": [
  {
   "cell_type": "markdown",
   "metadata": {
    "id": "L63_YGC5SkdA"
   },
   "source": [
    "# ML2024. ДЗ №1. Лыжин Роман"
   ]
  },
  {
   "cell_type": "markdown",
   "metadata": {
    "id": "mNZnkTvUTPH_"
   },
   "source": [
    "Задание 1. Подсчитать произведение ненулевых элементов на диагонали прямоугольной матрицы.\n",
    "\n",
    "Для X = np.array([[1, 0, 1], [2, 0, 2], [3, 0, 3], [4, 4, 4]]) ответ 3.\n",
    "\n"
   ]
  },
  {
   "cell_type": "code",
   "execution_count": null,
   "metadata": {
    "id": "McML45oET9KG"
   },
   "outputs": [],
   "source": [
    "import numpy as np\n",
    "import matplotlib.pyplot as plt"
   ]
  },
  {
   "cell_type": "code",
   "execution_count": null,
   "metadata": {
    "id": "s2Ycas1UUc1B"
   },
   "outputs": [],
   "source": [
    "#1.1 (векторизация)\n",
    "def diag_prod(X):\n",
    "  diag = np.diag(X)\n",
    "  return diag[diag != 0].prod()"
   ]
  },
  {
   "cell_type": "code",
   "execution_count": null,
   "metadata": {
    "colab": {
     "base_uri": "https://localhost:8080/"
    },
    "id": "jfh-QJFgcPWA",
    "outputId": "511b731b-c478-437c-9ffe-2da2922999de"
   },
   "outputs": [
    {
     "data": {
      "text/plain": [
       "3"
      ]
     },
     "execution_count": 59,
     "metadata": {},
     "output_type": "execute_result"
    }
   ],
   "source": [
    "X = np.array([[1, 0, 1], [2, 0, 2], [3, 0, 3], [4, 4, 4]])\n",
    "diag_prod(X)"
   ]
  },
  {
   "cell_type": "code",
   "execution_count": null,
   "metadata": {
    "id": "SQUbNZ8nUA24"
   },
   "outputs": [],
   "source": [
    "sizes = size1, size2, size3 = (100, 1000, 10000)\n",
    "X1 = np.random.randint(0, 5, (size1, size1))\n",
    "X2 = np.random.randint(0, 5, (size2, size2))\n",
    "X3 = np.random.randint(0, 5, (size3, size3))"
   ]
  },
  {
   "cell_type": "code",
   "execution_count": null,
   "metadata": {
    "colab": {
     "base_uri": "https://localhost:8080/"
    },
    "id": "2-7NAHDxUmDX",
    "outputId": "b83cdfeb-0f0c-43ea-8821-4484c964d1be"
   },
   "outputs": [
    {
     "name": "stdout",
     "output_type": "stream",
     "text": [
      "11.2 µs ± 637 ns per loop (mean ± std. dev. of 7 runs, 10000 loops each)\n",
      "44 µs ± 5.95 µs per loop (mean ± std. dev. of 7 runs, 10000 loops each)\n",
      "300 µs ± 58.8 µs per loop (mean ± std. dev. of 7 runs, 1000 loops each)\n"
     ]
    }
   ],
   "source": [
    "res1_1 = %timeit -o diag_prod(X1)\n",
    "res1_2 = %timeit -o diag_prod(X2)\n",
    "res1_3 = %timeit -o diag_prod(X3)\n",
    "results1 = np.array([res1_1.average, res1_2.average, res1_3.average]) * 10**9  #нс"
   ]
  },
  {
   "cell_type": "code",
   "execution_count": null,
   "metadata": {
    "id": "9AM6GF_MU-Rq"
   },
   "outputs": [],
   "source": []
  },
  {
   "cell_type": "code",
   "execution_count": null,
   "metadata": {
    "id": "3TiUyUNKanY8"
   },
   "outputs": [],
   "source": [
    "#1.2 (цикл)\n",
    "def diag_prod(X):\n",
    "  prod = 1\n",
    "  for i in range(min(X.shape)):\n",
    "    if (el := X[i][i]) != 0:\n",
    "      prod *= el\n",
    "  return prod"
   ]
  },
  {
   "cell_type": "code",
   "execution_count": null,
   "metadata": {
    "colab": {
     "base_uri": "https://localhost:8080/"
    },
    "id": "UrJ1rW5RcYpz",
    "outputId": "660de518-48bd-4782-fb23-6d3336792024"
   },
   "outputs": [
    {
     "data": {
      "text/plain": [
       "3"
      ]
     },
     "execution_count": 63,
     "metadata": {},
     "output_type": "execute_result"
    }
   ],
   "source": [
    "X = np.array([[1, 0, 1], [2, 0, 2], [3, 0, 3], [4, 4, 4]])\n",
    "diag_prod(X)"
   ]
  },
  {
   "cell_type": "code",
   "execution_count": null,
   "metadata": {
    "colab": {
     "base_uri": "https://localhost:8080/"
    },
    "id": "EKYIZK7tUhFG",
    "outputId": "da32bc05-ea16-4d4b-bc49-83ca5213a84d"
   },
   "outputs": [
    {
     "name": "stderr",
     "output_type": "stream",
     "text": [
      "<ipython-input-62-a261d2a4810e>:6: RuntimeWarning: overflow encountered in scalar multiply\n",
      "  prod *= el\n"
     ]
    },
    {
     "name": "stdout",
     "output_type": "stream",
     "text": [
      "The slowest run took 4.36 times longer than the fastest. This could mean that an intermediate result is being cached.\n",
      "109 µs ± 57.6 µs per loop (mean ± std. dev. of 7 runs, 1000 loops each)\n",
      "543 µs ± 184 µs per loop (mean ± std. dev. of 7 runs, 100 loops each)\n",
      "The slowest run took 5.26 times longer than the fastest. This could mean that an intermediate result is being cached.\n",
      "9.91 ms ± 5.58 ms per loop (mean ± std. dev. of 7 runs, 100 loops each)\n"
     ]
    }
   ],
   "source": [
    "res2_1 = %timeit -o diag_prod(X1)\n",
    "res2_2 = %timeit -o diag_prod(X2)\n",
    "res2_3 = %timeit -o diag_prod(X3)\n",
    "results2 = np.array([res2_1.average, res2_2.average, res2_3.average]) * 10**9  #нс"
   ]
  },
  {
   "cell_type": "code",
   "execution_count": null,
   "metadata": {
    "id": "3lNqPUN8gz0f"
   },
   "outputs": [],
   "source": []
  },
  {
   "cell_type": "code",
   "execution_count": null,
   "metadata": {
    "id": "4YbG9wq4jeC7"
   },
   "outputs": [],
   "source": [
    "#1.3 (наиболее читаемый вариант)\n",
    "def diag_prod(X):\n",
    "  diag = np.diag(X)\n",
    "  nonzero_diag = diag[diag != 0]\n",
    "  return np.prod(nonzero_diag)"
   ]
  },
  {
   "cell_type": "code",
   "execution_count": null,
   "metadata": {
    "colab": {
     "base_uri": "https://localhost:8080/"
    },
    "id": "4Tq_A9X3U4Yf",
    "outputId": "1c1d45a3-0815-45b7-c832-e4a1274e097c"
   },
   "outputs": [
    {
     "data": {
      "text/plain": [
       "3"
      ]
     },
     "execution_count": 66,
     "metadata": {},
     "output_type": "execute_result"
    }
   ],
   "source": [
    "X = np.array([[1, 0, 1], [2, 0, 2], [3, 0, 3], [4, 4, 4]])\n",
    "diag_prod(X)"
   ]
  },
  {
   "cell_type": "code",
   "execution_count": null,
   "metadata": {
    "colab": {
     "base_uri": "https://localhost:8080/"
    },
    "id": "itm-bmQuHRkW",
    "outputId": "7c7e4109-6744-48f8-bdb6-e62bdc486e45"
   },
   "outputs": [
    {
     "name": "stdout",
     "output_type": "stream",
     "text": [
      "12.3 µs ± 3.12 µs per loop (mean ± std. dev. of 7 runs, 100000 loops each)\n",
      "16.7 µs ± 8.08 µs per loop (mean ± std. dev. of 7 runs, 100000 loops each)\n",
      "246 µs ± 65.4 µs per loop (mean ± std. dev. of 7 runs, 10000 loops each)\n"
     ]
    }
   ],
   "source": [
    "res3_1 = %timeit -o diag_prod(X1)\n",
    "res3_2 = %timeit -o diag_prod(X2)\n",
    "res3_3 = %timeit -o diag_prod(X3)\n",
    "results3 = np.array([res3_1.average, res3_2.average, res3_3.average]) * 10**9  #нс"
   ]
  },
  {
   "cell_type": "code",
   "execution_count": null,
   "metadata": {
    "colab": {
     "base_uri": "https://localhost:8080/",
     "height": 472
    },
    "id": "w3I-lPIJVHcn",
    "outputId": "b01b5313-08af-4d6b-c8a5-4d21bd9bf2eb"
   },
   "outputs": [
    {
     "data": {
      "image/png": "[encoded data removed]",
      "text/plain": [
       "<Figure size 640x480 with 1 Axes>"
      ]
     },
     "metadata": {},
     "output_type": "display_data"
    }
   ],
   "source": [
    "plt.figure()\n",
    "plt.title(\"diag_prod\")\n",
    "\n",
    "plt.bar(np.arange(1, 13, 4) - 1,\n",
    "        results1,\n",
    "        color='blue',\n",
    "        width=1,\n",
    "        align='center',\n",
    "        label='1.1'\n",
    "        )\n",
    "\n",
    "plt.bar(np.arange(1, 13, 4),\n",
    "        results2,\n",
    "        color='orange',\n",
    "        width=1,\n",
    "        align='center',\n",
    "        label='1.2'\n",
    "        )\n",
    "\n",
    "plt.bar(np.arange(1, 13, 4) + 1,\n",
    "        results3,\n",
    "        color='green',\n",
    "        width=1,\n",
    "        align='center',\n",
    "        label='1.3'\n",
    "        )\n",
    "plt.xlabel(\"Размер входных данных\")\n",
    "plt.ylabel(\"Время работы, нс\")\n",
    "plt.xticks((1,5,9), [\"100\", \"1000\", \"10000\"])\n",
    "plt.yscale('log')\n",
    "plt.legend()\n",
    "plt.show()"
   ]
  },
  {
   "cell_type": "markdown",
   "metadata": {
    "id": "jngeU9JYP7dD"
   },
   "source": [
    "Анализ:\n",
    "\n",
    "Входные данные - 100x100, 1000x1000, 10000x10000 элементов\n",
    "\n",
    "1. Векторизованный вариант: ~ 6.5 - 217.0 нс. Выполняется быстрее всего.\n",
    "2. Вариант с циклом выполняется: ~ 45.5 - 4410.0 нс. Выполняется дольше всего.\n",
    "3. Наиболее читаемый вариант: ~ 8.8 - 288.0 нс. Является немного изменённым вариантом векторизации. Сравним по времени выполнения с ним.\n",
    "\n",
    "На наборе данных в 10000x10000 элементов разница во времени выполнения наиболее значительная"
   ]
  },
  {
   "cell_type": "code",
   "execution_count": null,
   "metadata": {
    "id": "bRBObZ_oVwV7"
   },
   "outputs": [],
   "source": []
  },
  {
   "cell_type": "markdown",
   "metadata": {
    "id": "9gaAhKJ7IUy3"
   },
   "source": [
    "\n",
    "Задание 2. Даны два вектора x и y. Проверить, задают ли они одно и то же мультимножество.\n",
    "\n",
    "Для x = np.array([1, 2, 2, 4]), y = np.array([4, 2, 1, 2]) ответ True.\n"
   ]
  },
  {
   "cell_type": "code",
   "execution_count": null,
   "metadata": {
    "id": "KQyNKt-WJFGw"
   },
   "outputs": [],
   "source": [
    "#2.1 (векторизация)\n",
    "def is_same_multiset(x, y):\n",
    "  sorted_x = np.sort(x)\n",
    "  sorted_y = np.sort(y)\n",
    "  return np.array_equal(sorted_x, sorted_y)"
   ]
  },
  {
   "cell_type": "code",
   "execution_count": null,
   "metadata": {
    "colab": {
     "base_uri": "https://localhost:8080/"
    },
    "id": "MKJH15TWKyb8",
    "outputId": "55f148cb-7a2b-46ac-ac0c-ae1d2eed19ac"
   },
   "outputs": [
    {
     "data": {
      "text/plain": [
       "True"
      ]
     },
     "execution_count": 70,
     "metadata": {},
     "output_type": "execute_result"
    }
   ],
   "source": [
    "x = np.array([1, 2, 2, 4])\n",
    "y = np.array([4, 2, 1, 2])\n",
    "\n",
    "is_same_multiset(x, y)"
   ]
  },
  {
   "cell_type": "code",
   "execution_count": null,
   "metadata": {
    "id": "c2cvKxILK3VL"
   },
   "outputs": [],
   "source": [
    "sizes = size1, size2, size3 = (100, 1000, 10000)\n",
    "x1 = np.random.randint(0,5, size1)\n",
    "y1 = np.random.randint(0,5, size1)\n",
    "\n",
    "x2 = np.random.randint(0,5, size2)\n",
    "y2 = np.random.randint(0,5, size2)\n",
    "\n",
    "x3 = np.random.randint(0,5, size3)\n",
    "y3 = np.random.randint(0,5, size3)"
   ]
  },
  {
   "cell_type": "code",
   "execution_count": null,
   "metadata": {
    "colab": {
     "base_uri": "https://localhost:8080/"
    },
    "id": "LVVrHtuHNBvT",
    "outputId": "89836f62-31ba-4497-f987-a95a40e53388"
   },
   "outputs": [
    {
     "name": "stdout",
     "output_type": "stream",
     "text": [
      "11.4 µs ± 2.53 µs per loop (mean ± std. dev. of 7 runs, 100000 loops each)\n",
      "40.2 µs ± 1.77 µs per loop (mean ± std. dev. of 7 runs, 10000 loops each)\n",
      "738 µs ± 168 µs per loop (mean ± std. dev. of 7 runs, 1000 loops each)\n"
     ]
    }
   ],
   "source": [
    "res1_1 = %timeit -o is_same_multiset(x1, y1)\n",
    "res1_2 = %timeit -o is_same_multiset(x2, y2)\n",
    "res1_3 = %timeit -o is_same_multiset(x3, y3)\n",
    "results1 = np.array([res1_1.average, res1_2.average, res1_3.average]) * 10**9  #нс"
   ]
  },
  {
   "cell_type": "code",
   "execution_count": null,
   "metadata": {
    "id": "jhoYkPdXNK49"
   },
   "outputs": [],
   "source": []
  },
  {
   "cell_type": "code",
   "execution_count": null,
   "metadata": {
    "id": "LfAqMBw3NY45"
   },
   "outputs": [],
   "source": [
    "#2.2 (цикл)\n",
    "def is_same_multiset(x, y):\n",
    "  if len(x) != len(y):\n",
    "    return False\n",
    "  sorted_x = np.sort(x)\n",
    "  sorted_y = np.sort(y)\n",
    "  for el_x, el_y in zip(sorted_x,sorted_x):\n",
    "    if el_x != el_y:\n",
    "      return False\n",
    "  return True\n"
   ]
  },
  {
   "cell_type": "code",
   "execution_count": null,
   "metadata": {
    "colab": {
     "base_uri": "https://localhost:8080/"
    },
    "id": "BbNh6ZKPIbsM",
    "outputId": "44148bbf-18e7-4e60-e818-2744fdf77363"
   },
   "outputs": [
    {
     "data": {
      "text/plain": [
       "True"
      ]
     },
     "execution_count": 74,
     "metadata": {},
     "output_type": "execute_result"
    }
   ],
   "source": [
    "x = np.array([1, 2, 2, 4])\n",
    "y = np.array([4, 2, 1, 2])\n",
    "\n",
    "is_same_multiset(x, y)"
   ]
  },
  {
   "cell_type": "code",
   "execution_count": null,
   "metadata": {
    "colab": {
     "base_uri": "https://localhost:8080/"
    },
    "id": "yeHy1KEvN8Ua",
    "outputId": "1e33e63e-874e-4233-dcad-45ef90b90c17"
   },
   "outputs": [
    {
     "name": "stdout",
     "output_type": "stream",
     "text": [
      "30.5 µs ± 9.8 µs per loop (mean ± std. dev. of 7 runs, 10000 loops each)\n",
      "260 µs ± 47.5 µs per loop (mean ± std. dev. of 7 runs, 1000 loops each)\n",
      "2.52 ms ± 487 µs per loop (mean ± std. dev. of 7 runs, 100 loops each)\n"
     ]
    }
   ],
   "source": [
    "res2_1 = %timeit -o is_same_multiset(x1, y1)\n",
    "res2_2 = %timeit -o is_same_multiset(x2, y2)\n",
    "res2_3 = %timeit -o is_same_multiset(x3, y3)\n",
    "results2 = np.array([res2_1.average, res2_2.average, res2_3.average]) * 10**9  #нс"
   ]
  },
  {
   "cell_type": "code",
   "execution_count": null,
   "metadata": {
    "id": "eB-cf8SfRGUo"
   },
   "outputs": [],
   "source": []
  },
  {
   "cell_type": "code",
   "execution_count": null,
   "metadata": {
    "id": "LItvrUkARGWQ"
   },
   "outputs": [],
   "source": [
    "#2.3 (модифицированный вариант 2.2)\n",
    "def is_same_multiset(x, y):\n",
    "  if len(x) != len(y):\n",
    "    return False\n",
    "  sorted_x = np.sort(x)\n",
    "  sorted_y = np.sort(y)\n",
    "\n",
    "  for i in range(len(sorted_x)):\n",
    "    if sorted_x[i] != sorted_y[i]:\n",
    "      return False\n",
    "  return True"
   ]
  },
  {
   "cell_type": "code",
   "execution_count": null,
   "metadata": {
    "colab": {
     "base_uri": "https://localhost:8080/"
    },
    "id": "58aBiry0IkWQ",
    "outputId": "e600bc88-e8b2-44e8-ebe0-4f5c99e68ebd"
   },
   "outputs": [
    {
     "data": {
      "text/plain": [
       "True"
      ]
     },
     "execution_count": 77,
     "metadata": {},
     "output_type": "execute_result"
    }
   ],
   "source": [
    "x = np.array([1, 2, 2, 4])\n",
    "y = np.array([4, 2, 1, 2])\n",
    "\n",
    "is_same_multiset(x, y)"
   ]
  },
  {
   "cell_type": "code",
   "execution_count": null,
   "metadata": {
    "colab": {
     "base_uri": "https://localhost:8080/"
    },
    "id": "cDcgh7kdSMUv",
    "outputId": "b9d9cb41-0f67-48fc-c725-842987585de6"
   },
   "outputs": [
    {
     "name": "stdout",
     "output_type": "stream",
     "text": [
      "15.6 µs ± 5.4 µs per loop (mean ± std. dev. of 7 runs, 100000 loops each)\n",
      "133 µs ± 51.8 µs per loop (mean ± std. dev. of 7 runs, 10000 loops each)\n",
      "1.44 ms ± 361 µs per loop (mean ± std. dev. of 7 runs, 1000 loops each)\n"
     ]
    }
   ],
   "source": [
    "res3_1 = %timeit -o is_same_multiset(x1, y1)\n",
    "res3_2 = %timeit -o is_same_multiset(x2, y2)\n",
    "res3_3 = %timeit -o is_same_multiset(x3, y3)\n",
    "results3 = np.array([res3_1.average, res3_2.average, res3_3.average]) * 10**9  #нс"
   ]
  },
  {
   "cell_type": "code",
   "execution_count": null,
   "metadata": {
    "colab": {
     "base_uri": "https://localhost:8080/",
     "height": 472
    },
    "id": "Vg7sCu2FS2mN",
    "outputId": "02e8898f-bc2b-4dc1-8582-f6a29c66a837"
   },
   "outputs": [
    {
     "data": {
      "image/png": "[encoded data removed]",
      "text/plain": [
       "<Figure size 640x480 with 1 Axes>"
      ]
     },
     "metadata": {},
     "output_type": "display_data"
    }
   ],
   "source": [
    "plt.figure()\n",
    "plt.title(\"is_same_multiset\")\n",
    "\n",
    "plt.bar(np.arange(1, 13, 4) - 1,\n",
    "        results1,\n",
    "        color='blue',\n",
    "        width=1,\n",
    "        align='center',\n",
    "        label='2.1'\n",
    "        )\n",
    "\n",
    "plt.bar(np.arange(1, 13, 4),\n",
    "        results2,\n",
    "        color='orange',\n",
    "        width=1,\n",
    "        align='center',\n",
    "        label='2.2'\n",
    "        )\n",
    "\n",
    "plt.bar(np.arange(1, 13, 4) + 1,\n",
    "        results3,\n",
    "        color='green',\n",
    "        width=1,\n",
    "        align='center',\n",
    "        label='2.3'\n",
    "        )\n",
    "plt.xlabel(\"Размер входных данных\")\n",
    "plt.ylabel(\"Время работы, нс\")\n",
    "plt.xticks((1,5,9), [\"100\", \"1000\", \"10000\"])\n",
    "plt.yscale('log')\n",
    "plt.legend()\n",
    "plt.show()"
   ]
  },
  {
   "cell_type": "markdown",
   "metadata": {
    "id": "IFtMgcfDSlIH"
   },
   "source": [
    "Анализ:\n",
    "\n",
    "Входные данные - 100, 1000, 10000 элементов\n",
    "\n",
    "1. Векторизованный вариант: ~ 9.1 - 495.0 нс. Выполняется быстрее всего.\n",
    "2. Вариант с циклом: ~ 21.2 - 3350.0 нс. Выполняется дольше всего.\n",
    "3. Модифицированный вариант цикла: ~ 8.3 - 1340.0 нс. Выполняется быстрее варианта с циклом , но медленнее векторизованного варианта. На небольших входных данных оказался быстрее векторизованного варианта.\n",
    "\n",
    "На наборе данных в 10000 элементов разница во времени выполнения наиболее значительная"
   ]
  },
  {
   "cell_type": "code",
   "execution_count": null,
   "metadata": {
    "id": "qE24y3GcV1Lr"
   },
   "outputs": [],
   "source": []
  },
  {
   "cell_type": "markdown",
   "metadata": {
    "id": "90Vgzpx9XStr"
   },
   "source": [
    "\n",
    "Задание 3. Найти максимальный элемент в векторе x среди элементов, перед которыми стоит нулевой.\n",
    "\n",
    "Для x = np.array([6, 2, 0, 3, 0, 0, 5, 7, 0]) ответ 5.\n"
   ]
  },
  {
   "cell_type": "code",
   "execution_count": null,
   "metadata": {
    "id": "fYNfFQU0XX4N"
   },
   "outputs": [],
   "source": [
    "#3.1 (векторизация)\n",
    "def max_before_zero(x):\n",
    "  zero_inds = np.where(x == 0)[0]\n",
    "  after_zero_inds = (zero_inds + 1)[zero_inds + 1 < len(x)]\n",
    "  return np.max(x[after_zero_inds])\n"
   ]
  },
  {
   "cell_type": "code",
   "execution_count": null,
   "metadata": {
    "colab": {
     "base_uri": "https://localhost:8080/"
    },
    "id": "jcL1BUiKX9tK",
    "outputId": "32aebcee-c2b4-4ab3-e715-3d4f9129c764"
   },
   "outputs": [
    {
     "data": {
      "text/plain": [
       "5"
      ]
     },
     "execution_count": 81,
     "metadata": {},
     "output_type": "execute_result"
    }
   ],
   "source": [
    "x = np.array([6, 2, 0, 3, 0, 0, 5, 7, 0])\n",
    "max_before_zero(x)"
   ]
  },
  {
   "cell_type": "code",
   "execution_count": null,
   "metadata": {
    "id": "1FDbHOGjYAMN"
   },
   "outputs": [],
   "source": [
    "sizes = size1, size2, size3 = (100, 1000, 10000)\n",
    "x1 = np.random.randint(0, 5, size1)\n",
    "x2 = np.random.randint(0, 5, size2)\n",
    "x3 = np.random.randint(0, 5, size3)"
   ]
  },
  {
   "cell_type": "code",
   "execution_count": null,
   "metadata": {
    "colab": {
     "base_uri": "https://localhost:8080/"
    },
    "id": "1VnwsL0ncU_Q",
    "outputId": "d9b8dc0d-332a-4450-a070-3ad79573f9c3"
   },
   "outputs": [
    {
     "name": "stdout",
     "output_type": "stream",
     "text": [
      "16.2 µs ± 6.45 µs per loop (mean ± std. dev. of 7 runs, 100000 loops each)\n",
      "18.5 µs ± 7 µs per loop (mean ± std. dev. of 7 runs, 100000 loops each)\n",
      "36.3 µs ± 872 ns per loop (mean ± std. dev. of 7 runs, 10000 loops each)\n"
     ]
    }
   ],
   "source": [
    "res1_1 = %timeit -o max_before_zero(x1)\n",
    "res1_2 = %timeit -o max_before_zero(x2)\n",
    "res1_3 = %timeit -o max_before_zero(x3)\n",
    "results1 = np.array([res1_1.average, res1_2.average, res1_3.average]) * 10**9  #нс"
   ]
  },
  {
   "cell_type": "code",
   "execution_count": null,
   "metadata": {
    "id": "7u7gcYqScdtV"
   },
   "outputs": [],
   "source": []
  },
  {
   "cell_type": "code",
   "execution_count": null,
   "metadata": {
    "id": "dfQfY2TcclJp"
   },
   "outputs": [],
   "source": [
    "#3.2 (цикл)\n",
    "def max_before_zero(x):\n",
    "  len_x = len(x)\n",
    "  max_el = min(x)\n",
    "  for i in range(len_x - 1):\n",
    "    if x[i] == 0:\n",
    "      max_el = max(max_el, x[i+1])\n",
    "  return max_el"
   ]
  },
  {
   "cell_type": "code",
   "execution_count": null,
   "metadata": {
    "colab": {
     "base_uri": "https://localhost:8080/"
    },
    "id": "I2ywmnEVJvJe",
    "outputId": "d038c747-5fa8-4a23-a6e6-6b52cd7dd9a7"
   },
   "outputs": [
    {
     "data": {
      "text/plain": [
       "5"
      ]
     },
     "execution_count": 85,
     "metadata": {},
     "output_type": "execute_result"
    }
   ],
   "source": [
    "x = np.array([6, 2, 0, 3, 0, 0, 5, 7, 0])\n",
    "max_before_zero(x)"
   ]
  },
  {
   "cell_type": "code",
   "execution_count": null,
   "metadata": {
    "colab": {
     "base_uri": "https://localhost:8080/"
    },
    "id": "KABC4AdudyUt",
    "outputId": "5f32ba8a-b748-4e89-aa8b-c64ea0a90e47"
   },
   "outputs": [
    {
     "name": "stdout",
     "output_type": "stream",
     "text": [
      "44.5 µs ± 12.9 µs per loop (mean ± std. dev. of 7 runs, 10000 loops each)\n",
      "444 µs ± 97.6 µs per loop (mean ± std. dev. of 7 runs, 1000 loops each)\n",
      "3.68 ms ± 661 µs per loop (mean ± std. dev. of 7 runs, 100 loops each)\n"
     ]
    }
   ],
   "source": [
    "res2_1 = %timeit -o max_before_zero(x1)\n",
    "res2_2 = %timeit -o max_before_zero(x2)\n",
    "res2_3 = %timeit -o max_before_zero(x3)\n",
    "results2 = np.array([res2_1.average, res2_2.average, res2_3.average]) * 10**9  #нс"
   ]
  },
  {
   "cell_type": "code",
   "execution_count": null,
   "metadata": {
    "id": "irw6O53jKDm2"
   },
   "outputs": [],
   "source": []
  },
  {
   "cell_type": "code",
   "execution_count": null,
   "metadata": {
    "id": "QFn6wneHdzAZ"
   },
   "outputs": [],
   "source": [
    "#3.3 (частично векторизованный вариант)\n",
    "def max_before_zero(x):\n",
    "  zero_inds = np.where(x == 0)[0]\n",
    "  after_zero_inds = (zero_inds + 1)[zero_inds + 1 < len(x)]\n",
    "  max_el = x[after_zero_inds[0]]\n",
    "  for i in after_zero_inds:\n",
    "    max_el = max(max_el, x[i])\n",
    "  return max_el"
   ]
  },
  {
   "cell_type": "code",
   "execution_count": null,
   "metadata": {
    "colab": {
     "base_uri": "https://localhost:8080/"
    },
    "id": "wpCF4bDLJ4Wv",
    "outputId": "c414c403-7d13-4f55-fd03-6b2fe7ea2862"
   },
   "outputs": [
    {
     "data": {
      "text/plain": [
       "5"
      ]
     },
     "execution_count": 88,
     "metadata": {},
     "output_type": "execute_result"
    }
   ],
   "source": [
    "x = np.array([6, 2, 0, 3, 0, 0, 5, 7, 0])\n",
    "max_before_zero(x)"
   ]
  },
  {
   "cell_type": "code",
   "execution_count": null,
   "metadata": {
    "colab": {
     "base_uri": "https://localhost:8080/"
    },
    "id": "sT7zhKPLgoSN",
    "outputId": "72e4a296-f339-4a74-c433-1bed83bbfdf2"
   },
   "outputs": [
    {
     "name": "stdout",
     "output_type": "stream",
     "text": [
      "23.8 µs ± 5.19 µs per loop (mean ± std. dev. of 7 runs, 10000 loops each)\n",
      "126 µs ± 48.3 µs per loop (mean ± std. dev. of 7 runs, 10000 loops each)\n",
      "1.23 ms ± 518 µs per loop (mean ± std. dev. of 7 runs, 1000 loops each)\n"
     ]
    }
   ],
   "source": [
    "res3_1 = %timeit -o max_before_zero(x1)\n",
    "res3_2 = %timeit -o max_before_zero(x2)\n",
    "res3_3 = %timeit -o max_before_zero(x3)\n",
    "results3 = np.array([res3_1.average, res3_2.average, res3_3.average]) * 10**9  #нс"
   ]
  },
  {
   "cell_type": "code",
   "execution_count": null,
   "metadata": {
    "colab": {
     "base_uri": "https://localhost:8080/",
     "height": 472
    },
    "id": "ia967BdJgqLq",
    "outputId": "800e0a7f-ca8d-492f-88e4-e9bef60543c9"
   },
   "outputs": [
    {
     "data": {
      "image/png": "[encoded data removed]",
      "text/plain": [
       "<Figure size 640x480 with 1 Axes>"
      ]
     },
     "metadata": {},
     "output_type": "display_data"
    }
   ],
   "source": [
    "plt.figure()\n",
    "plt.title(\"max_before_zero\")\n",
    "\n",
    "plt.bar(np.arange(1, 13, 4) - 1,\n",
    "        results1,\n",
    "        color='blue',\n",
    "        width=1,\n",
    "        align='center',\n",
    "        label='3.1'\n",
    "        )\n",
    "\n",
    "plt.bar(np.arange(1, 13, 4),\n",
    "        results2,\n",
    "        color='orange',\n",
    "        width=1,\n",
    "        align='center',\n",
    "        label='3.2'\n",
    "        )\n",
    "\n",
    "plt.bar(np.arange(1, 13, 4) + 1,\n",
    "        results3,\n",
    "        color='green',\n",
    "        width=1,\n",
    "        align='center',\n",
    "        label='3.3'\n",
    "        )\n",
    "plt.xlabel(\"Размер входных данных\")\n",
    "plt.ylabel(\"Время работы, нс\")\n",
    "plt.xticks((1,5,9), [\"100\", \"1000\", \"10000\"])\n",
    "plt.yscale('log')\n",
    "plt.legend()\n",
    "plt.show()"
   ]
  },
  {
   "cell_type": "markdown",
   "metadata": {
    "id": "vZHf707WV32z"
   },
   "source": [
    "Анализ:\n",
    "\n",
    "Входные данные - 100, 1000, 10000 элементов\n",
    "\n",
    "1. Векторизованный вариант: ~ 13.3 - 35.6 нс. Выполняется быстрее всего.\n",
    "2. Вариант с циклом: ~ 31.3 - 2900.0 нс. Выполняется дольше всего.\n",
    "3. Частично векторизованный вариант: ~ 18.8 - 715.0 нс. Выполняется быстрее варианта с циклом , но медленнее векторизованного варианта.\n",
    "\n",
    "На наборе данных в 10000 элементов разница во времени выполнения наиболее значительная"
   ]
  },
  {
   "cell_type": "code",
   "execution_count": null,
   "metadata": {
    "id": "gt0-g8A9KRbI"
   },
   "outputs": [],
   "source": []
  },
  {
   "cell_type": "markdown",
   "metadata": {
    "id": "2HB30KEhhAcE"
   },
   "source": [
    "Задание 4. Дан трёхмерный массив, содержащий изображение, размера (height, width, numChannels), а также вектор длины numChannels. Сложить каналы изображения с указанными весами, и вернуть результат в виде матрицы размера (height, width). Считать реальное изображение можно при помощи функции scipy.misc.imread (если изображение не в формате png, установите пакет pillow: conda install pillow). Преобразуйте цветное изображение в оттенки серого, использовав коэффициенты np.array([0.299, 0.587, 0.114])."
   ]
  },
  {
   "cell_type": "code",
   "execution_count": null,
   "metadata": {
    "id": "RLVtm26yl1in"
   },
   "outputs": [],
   "source": [
    "from imageio import imread, imsave"
   ]
  },
  {
   "cell_type": "code",
   "execution_count": null,
   "metadata": {
    "colab": {
     "base_uri": "https://localhost:8080/"
    },
    "id": "UUvRUZblhGyj",
    "outputId": "deb86d68-747f-48d1-cb69-63a3056ffde0"
   },
   "outputs": [
    {
     "name": "stderr",
     "output_type": "stream",
     "text": [
      "<ipython-input-92-d7adb21ad68a>:2: DeprecationWarning: Starting with ImageIO v3 the behavior of this function will switch to that of iio.v3.imread. To keep the current behavior (and make this warning disappear) use `import imageio.v2 as imageio` or call `imageio.v2.imread` directly.\n",
      "  img_matrix1 = imread(img_url1)\n"
     ]
    },
    {
     "data": {
      "text/plain": [
       "(1690, 2560, 3)"
      ]
     },
     "execution_count": 92,
     "metadata": {},
     "output_type": "execute_result"
    }
   ],
   "source": [
    "img_url1 = 'https://reveltime.storage.yandexcloud.net/d8/venue8/photo/1109913/2023/4890601_1702025375.797.png'\n",
    "img_matrix1 = imread(img_url1)\n",
    "img_matrix1.shape"
   ]
  },
  {
   "cell_type": "code",
   "execution_count": null,
   "metadata": {
    "colab": {
     "base_uri": "https://localhost:8080/"
    },
    "id": "-Y4BG85iuxX8",
    "outputId": "cf7b3786-c721-43f7-d942-e1a25af3e6fd"
   },
   "outputs": [
    {
     "name": "stderr",
     "output_type": "stream",
     "text": [
      "<ipython-input-93-a782f4d965cd>:2: DeprecationWarning: Starting with ImageIO v3 the behavior of this function will switch to that of iio.v3.imread. To keep the current behavior (and make this warning disappear) use `import imageio.v2 as imageio` or call `imageio.v2.imread` directly.\n",
      "  img_matrix2 = imread(img_url2)\n"
     ]
    },
    {
     "data": {
      "text/plain": [
       "(270, 480, 3)"
      ]
     },
     "execution_count": 93,
     "metadata": {},
     "output_type": "execute_result"
    }
   ],
   "source": [
    "img_url2 = 'https://avatars.mds.yandex.net/i?id=8b00dbb842da3863b278d25f424ed248508495fd-5480143-images-thumbs&n=13'\n",
    "img_matrix2 = imread(img_url2)\n",
    "img_matrix2.shape"
   ]
  },
  {
   "cell_type": "code",
   "execution_count": null,
   "metadata": {
    "colab": {
     "base_uri": "https://localhost:8080/"
    },
    "id": "QGGyexUnwM70",
    "outputId": "829d3604-9289-472b-bc5c-82b4dc32047c"
   },
   "outputs": [
    {
     "name": "stderr",
     "output_type": "stream",
     "text": [
      "<ipython-input-94-449ce4a2d1b8>:2: DeprecationWarning: Starting with ImageIO v3 the behavior of this function will switch to that of iio.v3.imread. To keep the current behavior (and make this warning disappear) use `import imageio.v2 as imageio` or call `imageio.v2.imread` directly.\n",
      "  img_matrix3 = imread(img_url3)\n"
     ]
    },
    {
     "data": {
      "text/plain": [
       "(50, 50, 3)"
      ]
     },
     "execution_count": 94,
     "metadata": {},
     "output_type": "execute_result"
    }
   ],
   "source": [
    "img_url3 = 'https://savefrom.userecho.com/s/cache/ea/bc/eabc07367f22b6be43fd85efcbcee5a3.png'\n",
    "img_matrix3 = imread(img_url3)\n",
    "img_matrix3.shape"
   ]
  },
  {
   "cell_type": "code",
   "execution_count": null,
   "metadata": {
    "id": "3OtLnvwsmhXf"
   },
   "outputs": [],
   "source": [
    "#4.1 (цикл)\n",
    "def make_img_gray(img_matrix):\n",
    "  height, width, numChannels = img_matrix.shape\n",
    "  gray_matrix = np.zeros((height, width)).astype(np.uint8)\n",
    "  gray_transform = np.array([0.299, 0.587, 0.114])\n",
    "  for i in range(height):\n",
    "    for j in range(width):\n",
    "      new_value = 0\n",
    "      for k in range(numChannels):\n",
    "        new_value += img_matrix[i][j][k] * gray_transform[k]\n",
    "      gray_matrix[i][j] = new_value\n",
    "\n",
    "  return gray_matrix"
   ]
  },
  {
   "cell_type": "code",
   "execution_count": null,
   "metadata": {
    "colab": {
     "base_uri": "https://localhost:8080/"
    },
    "id": "cSI0Tba8LIRh",
    "outputId": "6296704f-b478-4743-b7f4-bbaa4aa0387f"
   },
   "outputs": [
    {
     "name": "stdout",
     "output_type": "stream",
     "text": [
      "18.3 s ± 2.63 s per loop (mean ± std. dev. of 7 runs, 1 loop each)\n",
      "395 ms ± 8.82 ms per loop (mean ± std. dev. of 7 runs, 1 loop each)\n",
      "9.91 ms ± 2.41 ms per loop (mean ± std. dev. of 7 runs, 100 loops each)\n"
     ]
    }
   ],
   "source": [
    "res1_1 = %timeit -o imsave('new1.png', make_img_gray(img_matrix1))\n",
    "res1_2 = %timeit -o imsave('new2.png', make_img_gray(img_matrix2))\n",
    "res1_3 = %timeit -o imsave('new3.png', make_img_gray(img_matrix3))\n",
    "results1 = np.array([res1_1.average, res1_2.average, res1_3.average]) * 10**6 #мс"
   ]
  },
  {
   "cell_type": "code",
   "execution_count": null,
   "metadata": {
    "id": "gHIMJizZAXMv"
   },
   "outputs": [],
   "source": []
  },
  {
   "cell_type": "code",
   "execution_count": null,
   "metadata": {
    "id": "Hz1hlO1N8Slv"
   },
   "outputs": [],
   "source": [
    "#4.2 (векторизация)\n",
    "def make_img_gray(img_matrix):\n",
    "  gray_transform = np.array([0.299, 0.587, 0.114])\n",
    "  return np.dot(img_matrix, gray_transform).astype(np.uint8)"
   ]
  },
  {
   "cell_type": "code",
   "execution_count": null,
   "metadata": {
    "colab": {
     "base_uri": "https://localhost:8080/"
    },
    "id": "v2vffCv3Mq-z",
    "outputId": "3ebd654f-f012-4dab-fe7c-6e745aa0cecf"
   },
   "outputs": [
    {
     "name": "stdout",
     "output_type": "stream",
     "text": [
      "677 ms ± 9.56 ms per loop (mean ± std. dev. of 7 runs, 1 loop each)\n",
      "25.1 ms ± 3.54 ms per loop (mean ± std. dev. of 7 runs, 10 loops each)\n",
      "672 µs ± 85.1 µs per loop (mean ± std. dev. of 7 runs, 1000 loops each)\n"
     ]
    }
   ],
   "source": [
    "res2_1 = %timeit -o imsave('new1.png', make_img_gray(img_matrix1))\n",
    "res2_2 = %timeit -o imsave('new2.png', make_img_gray(img_matrix2))\n",
    "res2_3 = %timeit -o imsave('new3.png', make_img_gray(img_matrix3))\n",
    "results2 = np.array([res2_1.average, res2_2.average, res2_3.average]) * 10**6  #мс"
   ]
  },
  {
   "cell_type": "code",
   "execution_count": null,
   "metadata": {
    "id": "6pzQqGkCD_Ul"
   },
   "outputs": [],
   "source": []
  },
  {
   "cell_type": "code",
   "execution_count": null,
   "metadata": {
    "id": "TDlyrMMAD_WO"
   },
   "outputs": [],
   "source": [
    "#4.3 (частично векторизованный вариант)\n",
    "def make_img_gray(img_matrix):\n",
    "  height, width, numChannels = img_matrix.shape\n",
    "  gray_matrix = np.zeros((height, width)).astype(np.uint8)\n",
    "  gray_transform = np.array([0.299, 0.587, 0.114])\n",
    "  for i in range(height):\n",
    "    for j in range(width):\n",
    "      gray_matrix[i][j] = np.dot(img_matrix[i][j], gray_transform)\n",
    "  return gray_matrix"
   ]
  },
  {
   "cell_type": "code",
   "execution_count": null,
   "metadata": {
    "colab": {
     "base_uri": "https://localhost:8080/"
    },
    "id": "ThBDpuoKEelD",
    "outputId": "b38fd527-cf29-4172-9885-654b3526f531"
   },
   "outputs": [
    {
     "name": "stdout",
     "output_type": "stream",
     "text": [
      "13.7 s ± 881 ms per loop (mean ± std. dev. of 7 runs, 1 loop each)\n",
      "461 ms ± 105 ms per loop (mean ± std. dev. of 7 runs, 1 loop each)\n",
      "8.61 ms ± 1.8 ms per loop (mean ± std. dev. of 7 runs, 100 loops each)\n"
     ]
    }
   ],
   "source": [
    "res3_1 = %timeit -o imsave('new1.png', make_img_gray(img_matrix1))\n",
    "res3_2 = %timeit -o imsave('new2.png', make_img_gray(img_matrix2))\n",
    "res3_3 = %timeit -o imsave('new3.png', make_img_gray(img_matrix3))\n",
    "results3 = np.array([res3_1.average, res3_2.average, res3_3.average]) * 10**6  #мс"
   ]
  },
  {
   "cell_type": "code",
   "execution_count": null,
   "metadata": {
    "colab": {
     "base_uri": "https://localhost:8080/",
     "height": 472
    },
    "id": "vhPkl2T3Eg9C",
    "outputId": "44f10542-aa21-4179-ba10-e52af635aa70"
   },
   "outputs": [
    {
     "data": {
      "image/png": "[encoded data removed]",
      "text/plain": [
       "<Figure size 640x480 with 1 Axes>"
      ]
     },
     "metadata": {},
     "output_type": "display_data"
    }
   ],
   "source": [
    "plt.figure()\n",
    "plt.title(\"make_img_gray\")\n",
    "\n",
    "plt.bar(np.arange(1, 13, 4) - 1,\n",
    "        results1[::-1],\n",
    "        color='blue',\n",
    "        width=1,\n",
    "        align='center',\n",
    "        label='4.1'\n",
    "        )\n",
    "\n",
    "plt.bar(np.arange(1, 13, 4),\n",
    "        results2[::-1],\n",
    "        color='orange',\n",
    "        width=1,\n",
    "        align='center',\n",
    "        label='4.2'\n",
    "        )\n",
    "\n",
    "plt.bar(np.arange(1, 13, 4) + 1,\n",
    "        results3[::-1],\n",
    "        color='green',\n",
    "        width=1,\n",
    "        align='center',\n",
    "        label='4.3'\n",
    "        )\n",
    "plt.xlabel(\"Размер входных данных\")\n",
    "plt.ylabel(\"Время работы, мс\")\n",
    "plt.xticks((1,5,9), [\"100\", \"1000\", \"10000\"])\n",
    "plt.yscale('log')\n",
    "plt.legend()\n",
    "plt.show()"
   ]
  },
  {
   "cell_type": "markdown",
   "metadata": {
    "id": "PA2ZajjgW4SV"
   },
   "source": [
    "Анализ:\n",
    "\n",
    "Входные данные - изображения на 1690x2560, 270x480, 50x50 пикселей\n",
    "\n",
    "1. Вариант с циклом: ~ 10.1 - 18500.0 мс. Выполняется дольше всего.\n",
    "2. Векторизованный вариант: ~ 0.8 - 697.0 мс. Выполняется быстрее всего.\n",
    "3. Частично векторизованный вариант: ~ 7.0 - 14700.0 мс. Время выполнения сопоставимо с вариантом с циклом.\n",
    "\n",
    "На наборе данных в 10000 элементов разница во времени выполнения наиболее значительная"
   ]
  },
  {
   "cell_type": "code",
   "execution_count": null,
   "metadata": {
    "id": "-TnFbp3HNHxR"
   },
   "outputs": [],
   "source": []
  },
  {
   "cell_type": "markdown",
   "metadata": {
    "id": "uxWIbZN7FuWv"
   },
   "source": [
    "Задание 5. Реализовать кодирование длин серий (Run-length encoding). Дан вектор x. Необходимо вернуть кортеж из двух векторов одинаковой длины. Первый содержит числа, а второй - сколько раз их нужно повторить.\n",
    "\n",
    "Пример: x = np.array([2, 2, 2, 3, 3, 3, 5, 2, 2]). Ответ: (np.array([2, 3, 5, 2]), np.array([3, 3, 1, 2]))."
   ]
  },
  {
   "cell_type": "code",
   "execution_count": null,
   "metadata": {
    "id": "vxK_PUrXFy-B"
   },
   "outputs": [],
   "source": [
    "#5.1 (векторизация)\n",
    "def run_length_encoding(x):\n",
    "  diffs_x = np.diff(x)\n",
    "  unique_digits = np.where(diffs_x != 0)\n",
    "  new_digits_indicies = np.where(diffs_x != 0)[0] + 1\n",
    "  new_digits_indicies = np.concatenate(([0], new_digits_indicies, [len(x)]))\n",
    "\n",
    "  unique_digits = x[new_digits_indicies[:-1]]\n",
    "  digits_lens = np.diff(new_digits_indicies)\n",
    "\n",
    "  return (unique_digits, digits_lens)"
   ]
  },
  {
   "cell_type": "code",
   "execution_count": null,
   "metadata": {
    "colab": {
     "base_uri": "https://localhost:8080/"
    },
    "id": "8a7i_o5DGSPF",
    "outputId": "cae54c56-aae8-4fda-c72d-f4f57e7b8cec"
   },
   "outputs": [
    {
     "data": {
      "text/plain": [
       "(array([2, 3, 5, 2]), array([3, 3, 1, 2]))"
      ]
     },
     "execution_count": 103,
     "metadata": {},
     "output_type": "execute_result"
    }
   ],
   "source": [
    "x = np.array([2, 2, 2, 3, 3, 3, 5, 2, 2])\n",
    "run_length_encoding(x)"
   ]
  },
  {
   "cell_type": "code",
   "execution_count": null,
   "metadata": {
    "id": "3fSULUrUJSYS"
   },
   "outputs": [],
   "source": [
    "sizes = size1, size2, size3 = (100, 1000, 10000)\n",
    "x1 = np.random.randint(0, 10, size1)\n",
    "x2 = np.random.randint(0, 10, size2)\n",
    "x3 = np.random.randint(0, 10, size3)"
   ]
  },
  {
   "cell_type": "code",
   "execution_count": null,
   "metadata": {
    "colab": {
     "base_uri": "https://localhost:8080/"
    },
    "id": "I3SXtC23VicG",
    "outputId": "f7708fe7-4d68-4f56-d22c-e575f8e23c93"
   },
   "outputs": [
    {
     "name": "stdout",
     "output_type": "stream",
     "text": [
      "28.9 µs ± 7.04 µs per loop (mean ± std. dev. of 7 runs, 100000 loops each)\n",
      "36.3 µs ± 12.5 µs per loop (mean ± std. dev. of 7 runs, 10000 loops each)\n",
      "121 µs ± 47.1 µs per loop (mean ± std. dev. of 7 runs, 10000 loops each)\n"
     ]
    }
   ],
   "source": [
    "res1_1 = %timeit -o run_length_encoding(x1)\n",
    "res1_2 = %timeit -o run_length_encoding(x2)\n",
    "res1_3 = %timeit -o run_length_encoding(x3)\n",
    "results1 = np.array([res1_1.average, res1_2.average, res1_3.average]) * 10**9  #нс"
   ]
  },
  {
   "cell_type": "code",
   "execution_count": null,
   "metadata": {
    "id": "kvsIi0B1sF7C"
   },
   "outputs": [],
   "source": []
  },
  {
   "cell_type": "code",
   "execution_count": null,
   "metadata": {
    "id": "ISPCxQ4ysxlR"
   },
   "outputs": [],
   "source": [
    "#5.2 (цикл)\n",
    "def run_length_encoding(x):\n",
    "  curr_el = x[0]\n",
    "  count = 0\n",
    "  digits_lens = np.empty(0).astype(int)\n",
    "  unique_digits = np.empty(0).astype(int)\n",
    "  for el in x:\n",
    "    if el == curr_el:\n",
    "      count += 1\n",
    "    else:\n",
    "      unique_digits = np.append(unique_digits, curr_el)\n",
    "      digits_lens = np.append(digits_lens, count)\n",
    "\n",
    "      curr_el = el\n",
    "      count = 1\n",
    "  unique_digits = np.append(unique_digits, curr_el)\n",
    "  digits_lens = np.append(digits_lens, count)\n",
    "\n",
    "  return (unique_digits, digits_lens)\n"
   ]
  },
  {
   "cell_type": "code",
   "execution_count": null,
   "metadata": {
    "colab": {
     "base_uri": "https://localhost:8080/"
    },
    "id": "INX8FDvqNuf1",
    "outputId": "22d42716-f263-4746-9565-2a150155859a"
   },
   "outputs": [
    {
     "data": {
      "text/plain": [
       "(array([2, 3, 5, 2]), array([3, 3, 1, 2]))"
      ]
     },
     "execution_count": 107,
     "metadata": {},
     "output_type": "execute_result"
    }
   ],
   "source": [
    "x = np.array([2, 2, 2, 3, 3, 3, 5, 2, 2])\n",
    "run_length_encoding(x)"
   ]
  },
  {
   "cell_type": "code",
   "execution_count": null,
   "metadata": {
    "colab": {
     "base_uri": "https://localhost:8080/"
    },
    "id": "jVqbBTq10hpn",
    "outputId": "53b09fc6-4003-4516-fd87-300e9f0e35bf"
   },
   "outputs": [
    {
     "name": "stdout",
     "output_type": "stream",
     "text": [
      "1.43 ms ± 584 µs per loop (mean ± std. dev. of 7 runs, 1000 loops each)\n",
      "6.35 ms ± 182 µs per loop (mean ± std. dev. of 7 runs, 100 loops each)\n",
      "103 ms ± 17.9 ms per loop (mean ± std. dev. of 7 runs, 10 loops each)\n"
     ]
    }
   ],
   "source": [
    "res2_1 = %timeit -o run_length_encoding(x1)\n",
    "res2_2 = %timeit -o run_length_encoding(x2)\n",
    "res2_3 = %timeit -o run_length_encoding(x3)\n",
    "results2 = np.array([res2_1.average, res2_2.average, res2_3.average]) * 10**9  #нс"
   ]
  },
  {
   "cell_type": "code",
   "execution_count": null,
   "metadata": {
    "id": "vfy6Kqij6MMr"
   },
   "outputs": [],
   "source": []
  },
  {
   "cell_type": "code",
   "execution_count": null,
   "metadata": {
    "id": "YLEt4Rwk0wsL"
   },
   "outputs": [],
   "source": [
    "#5.3 (наиболее читаемый вариант, улучшенная векторизация)\n",
    "def run_length_encoding(x):\n",
    "    diff = np.concatenate(([1], np.diff(x), [1]))\n",
    "    run_starts = np.where(diff != 0)[0]\n",
    "    run_lengths = np.diff(run_starts)\n",
    "    unique_digits = x[run_starts[:-1]]\n",
    "    return (unique_digits, run_lengths)"
   ]
  },
  {
   "cell_type": "code",
   "execution_count": null,
   "metadata": {
    "colab": {
     "base_uri": "https://localhost:8080/"
    },
    "id": "l8B1soxbN58Y",
    "outputId": "bce5c11e-47db-4d08-f30c-fdcd6bcb4709"
   },
   "outputs": [
    {
     "data": {
      "text/plain": [
       "(array([2, 3, 5, 2]), array([3, 3, 1, 2]))"
      ]
     },
     "execution_count": 110,
     "metadata": {},
     "output_type": "execute_result"
    }
   ],
   "source": [
    "x = np.array([2, 2, 2, 3, 3, 3, 5, 2, 2])\n",
    "run_length_encoding(x)"
   ]
  },
  {
   "cell_type": "code",
   "execution_count": null,
   "metadata": {
    "colab": {
     "base_uri": "https://localhost:8080/"
    },
    "id": "KSnnEwLz6TPp",
    "outputId": "a978cfa7-1ab6-43ef-9063-3973896a785e"
   },
   "outputs": [
    {
     "name": "stdout",
     "output_type": "stream",
     "text": [
      "24.2 µs ± 2.18 µs per loop (mean ± std. dev. of 7 runs, 10000 loops each)\n",
      "22.5 µs ± 6.86 µs per loop (mean ± std. dev. of 7 runs, 10000 loops each)\n",
      "54.8 µs ± 12.1 µs per loop (mean ± std. dev. of 7 runs, 10000 loops each)\n"
     ]
    }
   ],
   "source": [
    "res3_1 = %timeit -o run_length_encoding(x1)\n",
    "res3_2 = %timeit -o run_length_encoding(x2)\n",
    "res3_3 = %timeit -o run_length_encoding(x3)\n",
    "results3 = np.array([res3_1.average, res3_2.average, res3_3.average]) * 10**9  #нс"
   ]
  },
  {
   "cell_type": "code",
   "execution_count": null,
   "metadata": {
    "colab": {
     "base_uri": "https://localhost:8080/",
     "height": 472
    },
    "id": "8vQBRLXY09Mh",
    "outputId": "76602072-2e8f-4fdf-ee2e-66bfb3a2e752"
   },
   "outputs": [
    {
     "data": {
      "image/png": "[encoded data removed]",
      "text/plain": [
       "<Figure size 640x480 with 1 Axes>"
      ]
     },
     "metadata": {},
     "output_type": "display_data"
    }
   ],
   "source": [
    "plt.figure()\n",
    "plt.title(\"run_length_encoding\")\n",
    "\n",
    "plt.bar(np.arange(1, 13, 4) - 1,\n",
    "        results1,\n",
    "        color='blue',\n",
    "        width=1,\n",
    "        align='center',\n",
    "        label='5.1'\n",
    "        )\n",
    "\n",
    "plt.bar(np.arange(1, 13, 4),\n",
    "        results2,\n",
    "        color='orange',\n",
    "        width=1,\n",
    "        align='center',\n",
    "        label='5.2'\n",
    "        )\n",
    "\n",
    "plt.bar(np.arange(1, 13, 4) + 1,\n",
    "        results3,\n",
    "        color='green',\n",
    "        width=1,\n",
    "        align='center',\n",
    "        label='5.3'\n",
    "        )\n",
    "plt.xlabel(\"Размер входных данных\")\n",
    "plt.ylabel(\"Время работы, нс\")\n",
    "plt.xticks((1,5,9), [\"100\", \"1000\", \"10000\"])\n",
    "plt.yscale('log')\n",
    "plt.legend()\n",
    "plt.show()"
   ]
  },
  {
   "cell_type": "markdown",
   "metadata": {
    "id": "SvdahuI9Yo2s"
   },
   "source": [
    "Анализ:\n",
    "\n",
    "Входные данные - 100, 1000, 10000 элементов\n",
    "\n",
    "1. Векторизованный вариант: ~ 35.1 - 71.2 нс. Выполняется быстро.\n",
    "2. Вариант с циклом: ~ 726.0 - 103000.0 нс. Выполняется дольше всего.\n",
    "3. Частично векторизованный вариант: ~ 15.9 - 54.6 нс. Выполняется быстрее всего и быстрее первого векторизованного варианта за счёт модификации.\n",
    "\n",
    "На наборе данных в 10000 элементов разница во времени выполнения наиболее значительная"
   ]
  },
  {
   "cell_type": "code",
   "execution_count": null,
   "metadata": {
    "id": "NOnb5xoQaOAH"
   },
   "outputs": [],
   "source": []
  },
  {
   "cell_type": "markdown",
   "metadata": {
    "id": "Q0fHJimjaQCJ"
   },
   "source": [
    "Вывод:\n",
    "\n",
    "При выполнения данной работы я научился применять основные методы библиотеки NumPy для выполнения операций над матрицами. Также были освоены навыки графического отображения данных с помощью библиотеки mathplotlib.\n",
    "\n",
    "Каждая задача была решена 3 способами, в том числе полностью векторизованный вариант, и вариант с циклами. При сравнении скорости выполнения получил, что использование векторизованных операций может быть в разы эффективнее, чем использование циклов. Это в особенности касается больших объёмов входных данных, на небольшой выборке данная разница может быть незаметной. Данная особенность была наглядно представлена при помощи построения соответствующих графиков."
   ]
  }
 ],
 "metadata": {
  "colab": {
   "provenance": []
  },
  "kernelspec": {
   "display_name": "Python 3 (ipykernel)",
   "language": "python",
   "name": "python3"
  },
  "language_info": {
   "codemirror_mode": {
    "name": "ipython",
    "version": 3
   },
   "file_extension": ".py",
   "mimetype": "text/x-python",
   "name": "python",
   "nbconvert_exporter": "python",
   "pygments_lexer": "ipython3",
   "version": "3.11.7"
  }
 },
 "nbformat": 4,
 "nbformat_minor": 1
}
